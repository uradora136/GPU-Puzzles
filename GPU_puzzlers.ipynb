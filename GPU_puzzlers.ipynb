{
  "cells": [
    {
      "cell_type": "markdown",
      "id": "23454034",
      "metadata": {
        "lines_to_next_cell": 2,
        "id": "23454034"
      },
      "source": [
        "# GPU Puzzles\n",
        "- by [Sasha Rush](http://rush-nlp.com) - [srush_nlp](https://twitter.com/srush_nlp)"
      ]
    },
    {
      "cell_type": "markdown",
      "id": "09ffa5eb",
      "metadata": {
        "id": "09ffa5eb"
      },
      "source": [
        "![](https://github.com/srush/GPU-Puzzles/raw/main/cuda.png)"
      ]
    },
    {
      "cell_type": "markdown",
      "id": "c9064f5c",
      "metadata": {
        "id": "c9064f5c"
      },
      "source": [
        "GPU architectures are critical to machine learning, and seem to be\n",
        "becoming even more important every day. However, you can be an expert\n",
        "in machine learning without ever touching GPU code. It is hard to gain\n",
        "intuition working through abstractions."
      ]
    },
    {
      "cell_type": "markdown",
      "id": "d4af993a",
      "metadata": {
        "id": "d4af993a"
      },
      "source": [
        "This notebook is an attempt to teach beginner GPU programming in a\n",
        "completely interactive fashion. Instead of providing text with\n",
        "concepts, it throws you right into coding and building GPU\n",
        "kernels. The exercises use NUMBA which directly maps Python\n",
        "code to CUDA kernels. It looks like Python but is basically\n",
        "identical to writing low-level CUDA code.\n",
        "In a few hours, I think you can go from basics to\n",
        "understanding the real algorithms that power 99% of deep learning\n",
        "today. If you do want to read the manual, it is here:"
      ]
    },
    {
      "cell_type": "markdown",
      "id": "cb974c6b",
      "metadata": {
        "id": "cb974c6b"
      },
      "source": [
        "[NUMBA CUDA Guide](https://numba.readthedocs.io/en/stable/cuda/index.html)"
      ]
    },
    {
      "cell_type": "markdown",
      "id": "783f5a51",
      "metadata": {
        "id": "783f5a51"
      },
      "source": [
        "I recommend doing these in Colab, as it is easy to get started.  Be\n",
        "sure to make your own copy, turn on GPU mode in the settings (`Runtime / Change runtime type`, then set `Hardware accelerator` to `GPU`), and\n",
        "then get to coding."
      ]
    },
    {
      "cell_type": "markdown",
      "id": "743b3805",
      "metadata": {
        "id": "743b3805"
      },
      "source": [
        "[![Open In Colab](https://colab.research.google.com/assets/colab-badge.svg)](https://colab.research.google.com/github/srush/GPU-Puzzles/blob/main/GPU_puzzlers.ipynb)"
      ]
    },
    {
      "cell_type": "markdown",
      "id": "044bd802",
      "metadata": {
        "id": "044bd802"
      },
      "source": [
        "(If you are into this style of puzzle, also check out my [Tensor\n",
        "Puzzles](https://github.com/srush/Tensor-Puzzles) for PyTorch.)"
      ]
    },
    {
      "cell_type": "code",
      "execution_count": null,
      "id": "4c078331",
      "metadata": {
        "execution": {
          "iopub.execute_input": "2022-08-07T21:24:28.090989Z",
          "iopub.status.busy": "2022-08-07T21:24:28.090509Z",
          "iopub.status.idle": "2022-08-07T21:24:40.218920Z",
          "shell.execute_reply": "2022-08-07T21:24:40.217864Z"
        },
        "lines_to_next_cell": 2,
        "id": "4c078331"
      },
      "outputs": [],
      "source": [
        "!pip install -qqq git+https://github.com/chalk-diagrams/planar git+https://github.com/danoneata/chalk@srush-patch-1\n",
        "!wget -q https://github.com/srush/GPU-Puzzles/raw/main/robot.png https://github.com/uradora136/GPU-Puzzles/raw/main/lib.py\n",
        "!uv pip install --system numba-cuda==0.4.0\n",
        "\n"
      ]
    },
    {
      "cell_type": "code",
      "execution_count": null,
      "id": "53cba43c",
      "metadata": {
        "execution": {
          "iopub.execute_input": "2022-08-07T21:24:40.223406Z",
          "iopub.status.busy": "2022-08-07T21:24:40.222945Z",
          "iopub.status.idle": "2022-08-07T21:24:40.697137Z",
          "shell.execute_reply": "2022-08-07T21:24:40.696287Z"
        },
        "id": "53cba43c"
      },
      "outputs": [],
      "source": [
        "import numba\n",
        "import numpy as np\n",
        "import warnings\n",
        "from lib import CudaProblem, Coord\n",
        "\n"
      ]
    },
    {
      "cell_type": "code",
      "execution_count": null,
      "id": "76a82629",
      "metadata": {
        "execution": {
          "iopub.execute_input": "2022-08-07T21:24:40.701357Z",
          "iopub.status.busy": "2022-08-07T21:24:40.700827Z",
          "iopub.status.idle": "2022-08-07T21:24:40.705366Z",
          "shell.execute_reply": "2022-08-07T21:24:40.704574Z"
        },
        "lines_to_next_cell": 2,
        "id": "76a82629"
      },
      "outputs": [],
      "source": [
        "warnings.filterwarnings(\n",
        "    action=\"ignore\", category=numba.NumbaPerformanceWarning, module=\"numba\"\n",
        ")"
      ]
    },
    {
      "cell_type": "markdown",
      "id": "d0ad1b7a",
      "metadata": {
        "lines_to_next_cell": 2,
        "id": "d0ad1b7a"
      },
      "source": [
        "## Puzzle 1: Map\n",
        "\n",
        "Implement a \"kernel\" (GPU function) that adds 10 to each position of vector `a`\n",
        "and stores it in vector `out`.  You have 1 thread per position."
      ]
    },
    {
      "cell_type": "markdown",
      "id": "2bcbce0d",
      "metadata": {
        "lines_to_next_cell": 2,
        "id": "2bcbce0d"
      },
      "source": [
        "**Warning** This code looks like Python but it is really CUDA! You cannot use\n",
        "standard python tools like list comprehensions or ask for Numpy properties\n",
        "like shape or size (if you need the size, it is given as an argument).\n",
        "The puzzles only require doing simple operations, basically\n",
        "+, *, simple array indexing, for loops, and if statements.\n",
        "You are allowed to use local variables.\n",
        "If you get an\n",
        "error it is probably because you did something fancy :)."
      ]
    },
    {
      "cell_type": "markdown",
      "id": "cb5e1d85",
      "metadata": {
        "id": "cb5e1d85"
      },
      "source": [
        "*Tip: Think of the function `call` as being run 1 time for each thread.\n",
        "The only difference is that `cuda.threadIdx.x` changes each time.*"
      ]
    },
    {
      "cell_type": "code",
      "execution_count": null,
      "id": "ab0899de",
      "metadata": {
        "execution": {
          "iopub.execute_input": "2022-08-07T21:24:40.710192Z",
          "iopub.status.busy": "2022-08-07T21:24:40.709745Z",
          "iopub.status.idle": "2022-08-07T21:24:40.779921Z",
          "shell.execute_reply": "2022-08-07T21:24:40.779104Z"
        },
        "id": "ab0899de"
      },
      "outputs": [],
      "source": [
        "def map_spec(a):\n",
        "    return a + 10\n",
        "\n",
        "\n",
        "def map_test(cuda):\n",
        "    def call(out, a) -> None:\n",
        "        local_i = cuda.threadIdx.x\n",
        "        out[local_i] = a[local_i] + 10\n",
        "\n",
        "    return call\n",
        "\n",
        "\n",
        "SIZE = 4\n",
        "out = np.zeros((SIZE,))\n",
        "a = np.arange(SIZE)\n",
        "problem = CudaProblem(\n",
        "    \"Map\", map_test, [a], out, threadsperblock=Coord(SIZE, 1), spec=map_spec\n",
        ")\n",
        "problem.show()"
      ]
    },
    {
      "cell_type": "code",
      "execution_count": null,
      "id": "0a5520a6",
      "metadata": {
        "execution": {
          "iopub.execute_input": "2022-08-07T21:24:40.783843Z",
          "iopub.status.busy": "2022-08-07T21:24:40.783394Z",
          "iopub.status.idle": "2022-08-07T21:24:41.318965Z",
          "shell.execute_reply": "2022-08-07T21:24:41.318117Z"
        },
        "lines_to_end_of_cell_marker": 0,
        "lines_to_next_cell": 1,
        "id": "0a5520a6"
      },
      "outputs": [],
      "source": [
        "problem.check()"
      ]
    },
    {
      "cell_type": "markdown",
      "id": "59aecc28",
      "metadata": {
        "id": "59aecc28"
      },
      "source": [
        "## Puzzle 2 - Zip\n",
        "\n",
        "Implement a kernel that adds together each position of `a` and `b` and stores it in `out`.\n",
        "You have 1 thread per position."
      ]
    },
    {
      "cell_type": "code",
      "execution_count": null,
      "id": "619b4208",
      "metadata": {
        "execution": {
          "iopub.execute_input": "2022-08-07T21:24:41.322974Z",
          "iopub.status.busy": "2022-08-07T21:24:41.322540Z",
          "iopub.status.idle": "2022-08-07T21:24:41.408046Z",
          "shell.execute_reply": "2022-08-07T21:24:41.407300Z"
        },
        "lines_to_next_cell": 0,
        "id": "619b4208"
      },
      "outputs": [],
      "source": [
        "def zip_spec(a, b):\n",
        "    return a + b\n",
        "\n",
        "\n",
        "def zip_test(cuda):\n",
        "    def call(out, a, b) -> None:\n",
        "        local_i = cuda.threadIdx.x\n",
        "        out[local_i] = a[local_i] + b[local_i]\n",
        "\n",
        "    return call\n",
        "\n",
        "\n",
        "SIZE = 4\n",
        "out = np.zeros((SIZE,))\n",
        "a = np.arange(SIZE)\n",
        "b = np.arange(SIZE)\n",
        "problem = CudaProblem(\n",
        "    \"Zip\", zip_test, [a, b], out, threadsperblock=Coord(SIZE, 1), spec=zip_spec\n",
        ")\n",
        "problem.show()"
      ]
    },
    {
      "cell_type": "code",
      "execution_count": null,
      "id": "f5037564",
      "metadata": {
        "execution": {
          "iopub.execute_input": "2022-08-07T21:24:41.411997Z",
          "iopub.status.busy": "2022-08-07T21:24:41.411569Z",
          "iopub.status.idle": "2022-08-07T21:24:41.450428Z",
          "shell.execute_reply": "2022-08-07T21:24:41.449609Z"
        },
        "lines_to_end_of_cell_marker": 0,
        "lines_to_next_cell": 1,
        "id": "f5037564"
      },
      "outputs": [],
      "source": [
        "problem.check()"
      ]
    },
    {
      "cell_type": "markdown",
      "id": "bb90ab5b",
      "metadata": {
        "id": "bb90ab5b"
      },
      "source": [
        "## Puzzle 3 - Guards\n",
        "\n",
        "Implement a kernel that adds 10 to each position of `a` and stores it in `out`.\n",
        "You have more threads than positions."
      ]
    },
    {
      "cell_type": "code",
      "execution_count": null,
      "id": "f5c83704",
      "metadata": {
        "execution": {
          "iopub.execute_input": "2022-08-07T21:24:41.454648Z",
          "iopub.status.busy": "2022-08-07T21:24:41.454179Z",
          "iopub.status.idle": "2022-08-07T21:24:41.527083Z",
          "shell.execute_reply": "2022-08-07T21:24:41.526268Z"
        },
        "id": "f5c83704"
      },
      "outputs": [],
      "source": [
        "def map_guard_test(cuda):\n",
        "    def call(out, a, size) -> None:\n",
        "        local_i = cuda.threadIdx.x\n",
        "        if local_i >= size: return\n",
        "        out[local_i] = a[local_i]+10\n",
        "\n",
        "    return call\n",
        "\n",
        "\n",
        "SIZE = 4\n",
        "out = np.zeros((SIZE,))\n",
        "a = np.arange(SIZE)\n",
        "problem = CudaProblem(\n",
        "    \"Guard\",\n",
        "    map_guard_test,\n",
        "    [a],\n",
        "    out,\n",
        "    [SIZE],\n",
        "    threadsperblock=Coord(8, 1),\n",
        "    spec=map_spec,\n",
        ")\n",
        "problem.show()"
      ]
    },
    {
      "cell_type": "code",
      "execution_count": null,
      "id": "2e34629f",
      "metadata": {
        "execution": {
          "iopub.execute_input": "2022-08-07T21:24:41.530990Z",
          "iopub.status.busy": "2022-08-07T21:24:41.530541Z",
          "iopub.status.idle": "2022-08-07T21:24:41.561067Z",
          "shell.execute_reply": "2022-08-07T21:24:41.560144Z"
        },
        "lines_to_end_of_cell_marker": 0,
        "lines_to_next_cell": 1,
        "id": "2e34629f"
      },
      "outputs": [],
      "source": [
        "problem.check()"
      ]
    },
    {
      "cell_type": "markdown",
      "id": "ec33ed08",
      "metadata": {
        "id": "ec33ed08"
      },
      "source": [
        "## Puzzle 4 - Map 2D\n",
        "\n",
        "Implement a kernel that adds 10 to each position of `a` and stores it in `out`.\n",
        "Input `a` is 2D and square. You have more threads than positions."
      ]
    },
    {
      "cell_type": "code",
      "execution_count": null,
      "id": "75d5eff5",
      "metadata": {
        "execution": {
          "iopub.execute_input": "2022-08-07T21:24:41.565190Z",
          "iopub.status.busy": "2022-08-07T21:24:41.564731Z",
          "iopub.status.idle": "2022-08-07T21:24:41.639943Z",
          "shell.execute_reply": "2022-08-07T21:24:41.639094Z"
        },
        "id": "75d5eff5"
      },
      "outputs": [],
      "source": [
        "def map_2D_test(cuda):\n",
        "    def call(out, a, size) -> None:\n",
        "        local_i = cuda.threadIdx.x\n",
        "        local_j = cuda.threadIdx.y\n",
        "        if local_i < size and local_j < size:\n",
        "          out[local_i, local_j] = a[local_i, local_j] + 10\n",
        "\n",
        "    return call\n",
        "\n",
        "\n",
        "SIZE = 2\n",
        "out = np.zeros((SIZE, SIZE))\n",
        "a = np.arange(SIZE * SIZE).reshape((SIZE, SIZE))\n",
        "problem = CudaProblem(\n",
        "    \"Map 2D\", map_2D_test, [a], out, [SIZE], threadsperblock=Coord(3, 3), spec=map_spec\n",
        ")\n",
        "problem.show()"
      ]
    },
    {
      "cell_type": "code",
      "execution_count": null,
      "id": "ed777631",
      "metadata": {
        "execution": {
          "iopub.execute_input": "2022-08-07T21:24:41.643707Z",
          "iopub.status.busy": "2022-08-07T21:24:41.643280Z",
          "iopub.status.idle": "2022-08-07T21:24:41.675212Z",
          "shell.execute_reply": "2022-08-07T21:24:41.674350Z"
        },
        "lines_to_end_of_cell_marker": 0,
        "lines_to_next_cell": 1,
        "id": "ed777631"
      },
      "outputs": [],
      "source": [
        "problem.check()"
      ]
    },
    {
      "cell_type": "markdown",
      "id": "bdcfd649",
      "metadata": {
        "id": "bdcfd649"
      },
      "source": [
        "## Puzzle 5 - Broadcast\n",
        "\n",
        "Implement a kernel that adds `a` and `b` and stores it in `out`.\n",
        "Inputs `a` and `b` are vectors. You have more threads than positions."
      ]
    },
    {
      "cell_type": "code",
      "execution_count": null,
      "id": "123e664b",
      "metadata": {
        "execution": {
          "iopub.execute_input": "2022-08-07T21:24:41.679242Z",
          "iopub.status.busy": "2022-08-07T21:24:41.678801Z",
          "iopub.status.idle": "2022-08-07T21:24:41.759781Z",
          "shell.execute_reply": "2022-08-07T21:24:41.758930Z"
        },
        "id": "123e664b"
      },
      "outputs": [],
      "source": [
        "def broadcast_test(cuda):\n",
        "    def call(out, a, b, size) -> None:\n",
        "        local_i = cuda.threadIdx.x\n",
        "        local_j = cuda.threadIdx.y\n",
        "        if local_i < size and local_j < size:\n",
        "          out[local_i, local_j] = a[local_i,0] + b[0,local_j]\n",
        "\n",
        "\n",
        "    return call\n",
        "\n",
        "\n",
        "SIZE = 2\n",
        "out = np.zeros((SIZE, SIZE))\n",
        "a = np.arange(SIZE).reshape(SIZE, 1)\n",
        "b = np.arange(SIZE).reshape(1, SIZE)\n",
        "problem = CudaProblem(\n",
        "    \"Broadcast\",\n",
        "    broadcast_test,\n",
        "    [a, b],\n",
        "    out,\n",
        "    [SIZE],\n",
        "    threadsperblock=Coord(3, 3),\n",
        "    spec=zip_spec,\n",
        ")\n",
        "problem.show()"
      ]
    },
    {
      "cell_type": "code",
      "execution_count": null,
      "id": "f25686b3",
      "metadata": {
        "execution": {
          "iopub.execute_input": "2022-08-07T21:24:41.763601Z",
          "iopub.status.busy": "2022-08-07T21:24:41.763153Z",
          "iopub.status.idle": "2022-08-07T21:24:41.798938Z",
          "shell.execute_reply": "2022-08-07T21:24:41.798139Z"
        },
        "lines_to_end_of_cell_marker": 0,
        "lines_to_next_cell": 1,
        "id": "f25686b3"
      },
      "outputs": [],
      "source": [
        "problem.check()"
      ]
    },
    {
      "cell_type": "markdown",
      "id": "e9c3173e",
      "metadata": {
        "id": "e9c3173e"
      },
      "source": [
        "## Puzzle 6 - Blocks\n",
        "\n",
        "Implement a kernel that adds 10 to each position of `a` and stores it in `out`.\n",
        "You have fewer threads per block than the size of `a`."
      ]
    },
    {
      "cell_type": "markdown",
      "id": "9dd3affc",
      "metadata": {
        "id": "9dd3affc"
      },
      "source": [
        "*Tip: A block is a group of threads. The number of threads per block is limited, but we can\n",
        "have many different blocks. Variable `cuda.blockIdx` tells us what block we are in.*"
      ]
    },
    {
      "cell_type": "code",
      "execution_count": null,
      "id": "6e0a6755",
      "metadata": {
        "execution": {
          "iopub.execute_input": "2022-08-07T21:24:41.803000Z",
          "iopub.status.busy": "2022-08-07T21:24:41.802566Z",
          "iopub.status.idle": "2022-08-07T21:24:41.980798Z",
          "shell.execute_reply": "2022-08-07T21:24:41.979932Z"
        },
        "id": "6e0a6755"
      },
      "outputs": [],
      "source": [
        "def map_block_test(cuda):\n",
        "    def call(out, a, size) -> None:\n",
        "        i = cuda.blockIdx.x * cuda.blockDim.x + cuda.threadIdx.x\n",
        "        if i < size:\n",
        "            out[i] = a[i] + 10\n",
        "\n",
        "    return call\n",
        "\n",
        "\n",
        "SIZE = 9\n",
        "out = np.zeros((SIZE,))\n",
        "a = np.arange(SIZE)\n",
        "problem = CudaProblem(\n",
        "    \"Blocks\",\n",
        "    map_block_test,\n",
        "    [a],\n",
        "    out,\n",
        "    [SIZE],\n",
        "    threadsperblock=Coord(4, 1),\n",
        "    blockspergrid=Coord(3, 1),\n",
        "    spec=map_spec,\n",
        ")\n",
        "problem.show()"
      ]
    },
    {
      "cell_type": "code",
      "execution_count": null,
      "id": "6c02498f",
      "metadata": {
        "execution": {
          "iopub.execute_input": "2022-08-07T21:24:41.985202Z",
          "iopub.status.busy": "2022-08-07T21:24:41.984759Z",
          "iopub.status.idle": "2022-08-07T21:24:42.023573Z",
          "shell.execute_reply": "2022-08-07T21:24:42.022706Z"
        },
        "lines_to_end_of_cell_marker": 0,
        "lines_to_next_cell": 1,
        "id": "6c02498f"
      },
      "outputs": [],
      "source": [
        "problem.check()"
      ]
    },
    {
      "cell_type": "markdown",
      "id": "e1871a41",
      "metadata": {
        "id": "e1871a41"
      },
      "source": [
        "## Puzzle 7 - Blocks 2D\n",
        "\n",
        "Implement the same kernel in 2D.  You have fewer threads per block\n",
        "than the size of `a` in both directions."
      ]
    },
    {
      "cell_type": "code",
      "execution_count": null,
      "id": "8ff4f1b6",
      "metadata": {
        "execution": {
          "iopub.execute_input": "2022-08-07T21:24:42.027634Z",
          "iopub.status.busy": "2022-08-07T21:24:42.027201Z",
          "iopub.status.idle": "2022-08-07T21:24:42.601813Z",
          "shell.execute_reply": "2022-08-07T21:24:42.600919Z"
        },
        "id": "8ff4f1b6"
      },
      "outputs": [],
      "source": [
        "def map_block2D_test(cuda):\n",
        "    def call(out, a, size) -> None:\n",
        "        i = cuda.blockIdx.x * cuda.blockDim.x + cuda.threadIdx.x\n",
        "        j = cuda.blockIdx.y * cuda.blockDim.y + cuda.threadIdx.y\n",
        "        if i<size and j<size:\n",
        "            out[i, j] = a[i,j] +10\n",
        "    return call\n",
        "\n",
        "\n",
        "SIZE = 5\n",
        "out = np.zeros((SIZE, SIZE))\n",
        "a = np.ones((SIZE, SIZE))\n",
        "\n",
        "problem = CudaProblem(\n",
        "    \"Blocks 2D\",\n",
        "    map_block2D_test,\n",
        "    [a],\n",
        "    out,\n",
        "    [SIZE],\n",
        "    threadsperblock=Coord(3, 3),\n",
        "    blockspergrid=Coord(2, 2),\n",
        "    spec=map_spec,\n",
        ")\n",
        "problem.show()"
      ]
    },
    {
      "cell_type": "code",
      "execution_count": null,
      "id": "e485a106",
      "metadata": {
        "execution": {
          "iopub.execute_input": "2022-08-07T21:24:42.608019Z",
          "iopub.status.busy": "2022-08-07T21:24:42.607554Z",
          "iopub.status.idle": "2022-08-07T21:24:42.645410Z",
          "shell.execute_reply": "2022-08-07T21:24:42.644607Z"
        },
        "id": "e485a106"
      },
      "outputs": [],
      "source": [
        "problem.check()"
      ]
    },
    {
      "cell_type": "markdown",
      "id": "4031ed95",
      "metadata": {
        "id": "4031ed95"
      },
      "source": [
        "## Puzzle 8 - Shared\n",
        "\n",
        "Implement a kernel that adds 10 to each position of `a` and stores it in `out`.\n",
        "You have fewer threads per block than the size of `a`."
      ]
    },
    {
      "cell_type": "markdown",
      "id": "2df50159",
      "metadata": {
        "id": "2df50159"
      },
      "source": [
        "**Warning**: Each block can only have a *constant* amount of shared\n",
        " memory that threads in that block can read and write to. This needs\n",
        " to be a literal python constant not a variable. After writing to\n",
        " shared memory you need to call `cuda.syncthreads` to ensure that\n",
        " threads do not cross."
      ]
    },
    {
      "cell_type": "markdown",
      "id": "9b4a21b0",
      "metadata": {
        "id": "9b4a21b0"
      },
      "source": [
        "(This example does not really need shared memory or syncthreads, but it is a demo.)"
      ]
    },
    {
      "cell_type": "code",
      "execution_count": null,
      "id": "62213ea0",
      "metadata": {
        "execution": {
          "iopub.execute_input": "2022-08-07T21:24:42.649928Z",
          "iopub.status.busy": "2022-08-07T21:24:42.649199Z",
          "iopub.status.idle": "2022-08-07T21:24:42.854066Z",
          "shell.execute_reply": "2022-08-07T21:24:42.853252Z"
        },
        "id": "62213ea0"
      },
      "outputs": [],
      "source": [
        "TPB = 4\n",
        "def shared_test(cuda):\n",
        "    def call(out, a, size) -> None:\n",
        "        shared = cuda.shared.array(TPB, numba.float32)\n",
        "        i = cuda.blockIdx.x * cuda.blockDim.x + cuda.threadIdx.x\n",
        "        local_i = cuda.threadIdx.x\n",
        "\n",
        "        if i < size:\n",
        "            shared[local_i] = a[i]\n",
        "            cuda.syncthreads()\n",
        "            out[i] = shared[local_i] + 10\n",
        "\n",
        "\n",
        "    return call\n",
        "\n",
        "\n",
        "SIZE = 8\n",
        "out = np.zeros(SIZE)\n",
        "a = np.ones(SIZE)\n",
        "problem = CudaProblem(\n",
        "    \"Shared\",\n",
        "    shared_test,\n",
        "    [a],\n",
        "    out,\n",
        "    [SIZE],\n",
        "    threadsperblock=Coord(TPB, 1),\n",
        "    blockspergrid=Coord(2, 1),\n",
        "    spec=map_spec,\n",
        ")\n",
        "problem.show()"
      ]
    },
    {
      "cell_type": "code",
      "execution_count": null,
      "id": "6193e0ea",
      "metadata": {
        "execution": {
          "iopub.execute_input": "2022-08-07T21:24:42.858447Z",
          "iopub.status.busy": "2022-08-07T21:24:42.858006Z",
          "iopub.status.idle": "2022-08-07T21:24:42.926443Z",
          "shell.execute_reply": "2022-08-07T21:24:42.925655Z"
        },
        "lines_to_end_of_cell_marker": 0,
        "lines_to_next_cell": 1,
        "id": "6193e0ea"
      },
      "outputs": [],
      "source": [
        "problem.check()"
      ]
    },
    {
      "cell_type": "markdown",
      "id": "815ee2ee",
      "metadata": {
        "id": "815ee2ee"
      },
      "source": [
        "## Puzzle 9 - Pooling\n",
        "\n",
        "Implement a kernel that sums together the last 3 position of `a` and stores it in `out`.\n",
        "You have 1 thread per position. You only need 1 global read and 1 global write per thread."
      ]
    },
    {
      "cell_type": "markdown",
      "id": "9947cff1",
      "metadata": {
        "id": "9947cff1"
      },
      "source": [
        "*Tip: Remember to be careful about syncing.*"
      ]
    },
    {
      "cell_type": "code",
      "execution_count": null,
      "id": "f35e5fdb",
      "metadata": {
        "execution": {
          "iopub.execute_input": "2022-08-07T21:24:42.930415Z",
          "iopub.status.busy": "2022-08-07T21:24:42.929976Z",
          "iopub.status.idle": "2022-08-07T21:24:43.020899Z",
          "shell.execute_reply": "2022-08-07T21:24:43.020143Z"
        },
        "id": "f35e5fdb"
      },
      "outputs": [],
      "source": [
        "def pool_spec(a):\n",
        "    out = np.zeros(*a.shape)\n",
        "    for i in range(a.shape[0]):\n",
        "        out[i] = a[max(i - 2, 0) : i + 1].sum()\n",
        "    return out\n",
        "\n",
        "\n",
        "TPB = 8\n",
        "def pool_test(cuda):\n",
        "    def call(out, a, size) -> None:\n",
        "        shared = cuda.shared.array(TPB, numba.float32)\n",
        "        i = cuda.blockIdx.x * cuda.blockDim.x + cuda.threadIdx.x\n",
        "        local_i = cuda.threadIdx.x\n",
        "        if i<size and local_i< TPB:\n",
        "          shared[local_i] = a[i]\n",
        "          cuda.syncthreads()\n",
        "          x = 0\n",
        "          for j in range(min(local_i+1, 3)):\n",
        "            x += shared[local_i-j]\n",
        "          out[i] = x\n",
        "    return call\n",
        "\n",
        "\n",
        "SIZE = 8\n",
        "out = np.zeros(SIZE)\n",
        "a = np.arange(SIZE)\n",
        "problem = CudaProblem(\n",
        "    \"Pooling\",\n",
        "    pool_test,\n",
        "    [a],\n",
        "    out,\n",
        "    [SIZE],\n",
        "    threadsperblock=Coord(TPB, 1),\n",
        "    blockspergrid=Coord(1, 1),\n",
        "    spec=pool_spec,\n",
        ")\n",
        "problem.show()"
      ]
    },
    {
      "cell_type": "code",
      "execution_count": null,
      "id": "b9ac503e",
      "metadata": {
        "execution": {
          "iopub.execute_input": "2022-08-07T21:24:43.024701Z",
          "iopub.status.busy": "2022-08-07T21:24:43.024250Z",
          "iopub.status.idle": "2022-08-07T21:24:43.069099Z",
          "shell.execute_reply": "2022-08-07T21:24:43.068252Z"
        },
        "lines_to_end_of_cell_marker": 0,
        "lines_to_next_cell": 1,
        "id": "b9ac503e"
      },
      "outputs": [],
      "source": [
        "problem.check()"
      ]
    },
    {
      "cell_type": "markdown",
      "id": "04727aa4",
      "metadata": {
        "id": "04727aa4"
      },
      "source": [
        "## Puzzle 10 - Dot Product\n",
        "\n",
        "Implement a kernel that computes the dot-product of `a` and `b` and stores it in `out`.\n",
        "You have 1 thread per position. You only need 2 global reads and 1 global write per thread."
      ]
    },
    {
      "cell_type": "markdown",
      "id": "1a63a4c2",
      "metadata": {
        "id": "1a63a4c2"
      },
      "source": [
        "*Note: For this problem you don't need to worry about number of shared reads. We will\n",
        " handle that challenge later.*"
      ]
    },
    {
      "cell_type": "code",
      "execution_count": null,
      "id": "e5d84c0f",
      "metadata": {
        "execution": {
          "iopub.execute_input": "2022-08-07T21:24:43.073281Z",
          "iopub.status.busy": "2022-08-07T21:24:43.072839Z",
          "iopub.status.idle": "2022-08-07T21:24:43.174688Z",
          "shell.execute_reply": "2022-08-07T21:24:43.173818Z"
        },
        "id": "e5d84c0f"
      },
      "outputs": [],
      "source": [
        "def dot_spec(a, b):\n",
        "    return a @ b\n",
        "\n",
        "TPB = 8\n",
        "def dot_test(cuda):\n",
        "    def call(out, a, b, size) -> None:\n",
        "        shared = cuda.shared.array(TPB, numba.float32)\n",
        "\n",
        "        i = cuda.blockIdx.x * cuda.blockDim.x + cuda.threadIdx.x\n",
        "        local_i = cuda.threadIdx.x\n",
        "        if i<size and local_i < TPB:\n",
        "          #shared[local_i]=\n",
        "          shared[local_i] = a[i] * b[i]\n",
        "          cuda.syncthreads()\n",
        "          if i == 0:\n",
        "            x = 0\n",
        "            for j in range(TPB):\n",
        "              x += shared[j]\n",
        "            out[0] = x\n",
        "\n",
        "        # FILL ME IN (roughly 9 lines)\n",
        "    return call\n",
        "\n",
        "\n",
        "SIZE = 8\n",
        "out = np.zeros(1)\n",
        "a = np.arange(SIZE)\n",
        "b = np.arange(SIZE)\n",
        "problem = CudaProblem(\n",
        "    \"Dot\",\n",
        "    dot_test,\n",
        "    [a, b],\n",
        "    out,\n",
        "    [SIZE],\n",
        "    threadsperblock=Coord(SIZE, 1),\n",
        "    blockspergrid=Coord(1, 1),\n",
        "    spec=dot_spec,\n",
        ")\n",
        "problem.show()"
      ]
    },
    {
      "cell_type": "code",
      "execution_count": null,
      "id": "1452858a",
      "metadata": {
        "execution": {
          "iopub.execute_input": "2022-08-07T21:24:43.178517Z",
          "iopub.status.busy": "2022-08-07T21:24:43.178082Z",
          "iopub.status.idle": "2022-08-07T21:24:43.224369Z",
          "shell.execute_reply": "2022-08-07T21:24:43.223563Z"
        },
        "id": "1452858a"
      },
      "outputs": [],
      "source": [
        "problem.check()"
      ]
    },
    {
      "cell_type": "markdown",
      "id": "060685a2",
      "metadata": {
        "lines_to_next_cell": 2,
        "id": "060685a2"
      },
      "source": [
        "## Puzzle 11 - 1D Convolution\n",
        "\n",
        "Implement a kernel that computes a 1D convolution between `a` and `b` and stores it in `out`.\n",
        "You need to handle the general case. You only need 2 global reads and 1 global write per thread."
      ]
    },
    {
      "cell_type": "code",
      "execution_count": null,
      "id": "d311eeeb",
      "metadata": {
        "execution": {
          "iopub.execute_input": "2022-08-07T21:24:43.228540Z",
          "iopub.status.busy": "2022-08-07T21:24:43.228045Z",
          "iopub.status.idle": "2022-08-07T21:24:43.325332Z",
          "shell.execute_reply": "2022-08-07T21:24:43.324481Z"
        },
        "id": "d311eeeb"
      },
      "outputs": [],
      "source": [
        "def conv_spec(a, b):\n",
        "    out = np.zeros(*a.shape)\n",
        "    len = b.shape[0]\n",
        "    for i in range(a.shape[0]):\n",
        "        out[i] = sum([a[i + j] * b[j] for j in range(len) if i + j < a.shape[0]])\n",
        "    return out\n",
        "\n",
        "\n",
        "MAX_CONV = 4\n",
        "TPB = 8\n",
        "TPB_MAX_CONV = TPB + MAX_CONV\n",
        "TPB_2MAX_CONV = TPB+MAX_CONV+MAX_CONV\n",
        "def conv_test(cuda):\n",
        "    def call(out, a, b, a_size, b_size) -> None:\n",
        "        i = cuda.blockIdx.x * cuda.blockDim.x + cuda.threadIdx.x\n",
        "        local_i = cuda.threadIdx.x\n",
        "        shared = cuda.shared.array(TPB_MAX_CONV, numba.float32)\n",
        "        shared_b = cuda.shared.array(MAX_CONV, numba.float32)\n",
        "        if local_i < MAX_CONV:\n",
        "          if local_i < b_size:\n",
        "            shared_b[local_i] = b[local_i]\n",
        "\n",
        "        else:\n",
        "          tail_offset = TPB-MAX_CONV\n",
        "          if local_i + tail_offset < TPB + b_size -1 and i+tail_offset < a_size:\n",
        "            shared[local_i+tail_offset]=a[i+tail_offset]\n",
        "\n",
        "        if i < a_size and local_i < TPB:\n",
        "          shared[local_i] = a[i]\n",
        "          cuda.syncthreads()\n",
        "          x = 0\n",
        "          for j in range(min(b_size, a_size-i)):\n",
        "            x+= shared[local_i+j]*shared_b[j]\n",
        "          out[i] = x\n",
        "\n",
        "        # FILL ME IN (roughly 17 lines)\n",
        "\n",
        "    return call\n",
        "\n",
        "\n",
        "# Test 1\n",
        "\n",
        "SIZE = 6\n",
        "CONV = 3\n",
        "out = np.zeros(SIZE)\n",
        "a = np.arange(SIZE)\n",
        "b = np.arange(CONV)\n",
        "problem = CudaProblem(\n",
        "    \"1D Conv (Simple)\",\n",
        "    conv_test,\n",
        "    [a, b],\n",
        "    out,\n",
        "    [SIZE, CONV],\n",
        "    Coord(1, 1),\n",
        "    Coord(TPB, 1),\n",
        "    spec=conv_spec,\n",
        ")\n",
        "problem.show()"
      ]
    },
    {
      "cell_type": "code",
      "execution_count": null,
      "id": "ffb88cd0",
      "metadata": {
        "execution": {
          "iopub.execute_input": "2022-08-07T21:24:43.329452Z",
          "iopub.status.busy": "2022-08-07T21:24:43.328685Z",
          "iopub.status.idle": "2022-08-07T21:24:43.368279Z",
          "shell.execute_reply": "2022-08-07T21:24:43.367480Z"
        },
        "id": "ffb88cd0"
      },
      "outputs": [],
      "source": [
        "problem.check()"
      ]
    },
    {
      "cell_type": "markdown",
      "id": "fd6ffcb3",
      "metadata": {
        "id": "fd6ffcb3"
      },
      "source": [
        "Test 2"
      ]
    },
    {
      "cell_type": "code",
      "execution_count": null,
      "id": "60853445",
      "metadata": {
        "execution": {
          "iopub.execute_input": "2022-08-07T21:24:43.372330Z",
          "iopub.status.busy": "2022-08-07T21:24:43.371893Z",
          "iopub.status.idle": "2022-08-07T21:24:43.587696Z",
          "shell.execute_reply": "2022-08-07T21:24:43.586874Z"
        },
        "id": "60853445"
      },
      "outputs": [],
      "source": [
        "out = np.zeros(15)\n",
        "a = np.arange(15)\n",
        "b = np.arange(4)\n",
        "problem = CudaProblem(\n",
        "    \"1D Conv (Full)\",\n",
        "    conv_test,\n",
        "    [a, b],\n",
        "    out,\n",
        "    [15, 4],\n",
        "    Coord(2, 1),\n",
        "    Coord(TPB, 1),\n",
        "    spec=conv_spec,\n",
        ")\n",
        "problem.show()"
      ]
    },
    {
      "cell_type": "code",
      "execution_count": null,
      "id": "80a29f20",
      "metadata": {
        "execution": {
          "iopub.execute_input": "2022-08-07T21:24:43.592341Z",
          "iopub.status.busy": "2022-08-07T21:24:43.591898Z",
          "iopub.status.idle": "2022-08-07T21:24:43.632088Z",
          "shell.execute_reply": "2022-08-07T21:24:43.631270Z"
        },
        "id": "80a29f20"
      },
      "outputs": [],
      "source": [
        "problem.check()"
      ]
    },
    {
      "cell_type": "markdown",
      "id": "2d5f53d7",
      "metadata": {
        "id": "2d5f53d7"
      },
      "source": [
        "## Puzzle 12 - Prefix Sum\n",
        "\n",
        "Implement a kernel that computes a sum over `a` and stores it in `out`.\n",
        "If the size of `a` is greater than the block size, only store the sum of\n",
        "each block."
      ]
    },
    {
      "cell_type": "markdown",
      "id": "2e41aec0",
      "metadata": {
        "id": "2e41aec0"
      },
      "source": [
        "We will do this using the [parallel prefix sum](https://en.wikipedia.org/wiki/Prefix_sum) algorithm in shared memory.\n",
        "That is, each step of the algorithm should sum together half the remaining numbers.\n",
        "Follow this diagram:"
      ]
    },
    {
      "cell_type": "markdown",
      "id": "9c6a47dd",
      "metadata": {
        "id": "9c6a47dd"
      },
      "source": [
        "![](https://user-images.githubusercontent.com/35882/178757889-1c269623-93af-4a2e-a7e9-22cd55a42e38.png)"
      ]
    },
    {
      "cell_type": "code",
      "execution_count": null,
      "id": "130a0a8d",
      "metadata": {
        "execution": {
          "iopub.execute_input": "2022-08-07T21:24:43.636349Z",
          "iopub.status.busy": "2022-08-07T21:24:43.635880Z",
          "iopub.status.idle": "2022-08-07T21:24:43.714064Z",
          "shell.execute_reply": "2022-08-07T21:24:43.713293Z"
        },
        "id": "130a0a8d"
      },
      "outputs": [],
      "source": [
        "TPB = 8\n",
        "def sum_spec(a):\n",
        "    out = np.zeros((a.shape[0] + TPB - 1) // TPB)\n",
        "    for j, i in enumerate(range(0, a.shape[-1], TPB)):\n",
        "        out[j] = a[i : i + TPB].sum()\n",
        "    return out\n",
        "\n",
        "\n",
        "def sum_test(cuda):\n",
        "    def call(out, a, size: int) -> None:\n",
        "        cache = cuda.shared.array(TPB, numba.float32)\n",
        "        i = cuda.blockIdx.x * cuda.blockDim.x + cuda.threadIdx.x\n",
        "        local_i = cuda.threadIdx.x\n",
        "        if i<size:\n",
        "          cache[local_i] = a[i]\n",
        "        else:\n",
        "          cache[local_i] = 0\n",
        "        cuda.syncthreads()\n",
        "        prev_stride = 1\n",
        "        for stride_log in range(1,4):\n",
        "          stride = 2**stride_log\n",
        "          if (local_i+1) % stride == 0:\n",
        "            prev_local_i = local_i - prev_stride\n",
        "            x = cache[local_i] + cache[prev_local_i]\n",
        "            if stride_log == 3:\n",
        "              out[cuda.blockIdx.x] = x\n",
        "            else:\n",
        "              cache[local_i] = x\n",
        "          prev_stride=stride\n",
        "          cuda.syncthreads()\n",
        "\n",
        "    return call\n",
        "\n",
        "\n",
        "# Test 1\n",
        "\n",
        "SIZE = 8\n",
        "out = np.zeros(1)\n",
        "inp = np.arange(SIZE)\n",
        "problem = CudaProblem(\n",
        "    \"Sum (Simple)\",\n",
        "    sum_test,\n",
        "    [inp],\n",
        "    out,\n",
        "    [SIZE],\n",
        "    Coord(1, 1),\n",
        "    Coord(TPB, 1),\n",
        "    spec=sum_spec,\n",
        ")\n",
        "problem.show()"
      ]
    },
    {
      "cell_type": "code",
      "execution_count": null,
      "id": "e03a0c71",
      "metadata": {
        "execution": {
          "iopub.execute_input": "2022-08-07T21:24:43.717874Z",
          "iopub.status.busy": "2022-08-07T21:24:43.717439Z",
          "iopub.status.idle": "2022-08-07T21:24:43.762084Z",
          "shell.execute_reply": "2022-08-07T21:24:43.761264Z"
        },
        "id": "e03a0c71"
      },
      "outputs": [],
      "source": [
        "problem.check()"
      ]
    },
    {
      "cell_type": "markdown",
      "id": "ccd86af0",
      "metadata": {
        "id": "ccd86af0"
      },
      "source": [
        "Test 2"
      ]
    },
    {
      "cell_type": "code",
      "execution_count": null,
      "id": "89b021a9",
      "metadata": {
        "execution": {
          "iopub.execute_input": "2022-08-07T21:24:43.766261Z",
          "iopub.status.busy": "2022-08-07T21:24:43.765816Z",
          "iopub.status.idle": "2022-08-07T21:24:43.906583Z",
          "shell.execute_reply": "2022-08-07T21:24:43.905757Z"
        },
        "id": "89b021a9"
      },
      "outputs": [],
      "source": [
        "SIZE = 15\n",
        "out = np.zeros(2)\n",
        "inp = np.arange(SIZE)\n",
        "problem = CudaProblem(\n",
        "    \"Sum (Full)\",\n",
        "    sum_test,\n",
        "    [inp],\n",
        "    out,\n",
        "    [SIZE],\n",
        "    Coord(2, 1),\n",
        "    Coord(TPB, 1),\n",
        "    spec=sum_spec,\n",
        ")\n",
        "problem.show()"
      ]
    },
    {
      "cell_type": "code",
      "execution_count": null,
      "id": "16dad418",
      "metadata": {
        "execution": {
          "iopub.execute_input": "2022-08-07T21:24:43.910655Z",
          "iopub.status.busy": "2022-08-07T21:24:43.910219Z",
          "iopub.status.idle": "2022-08-07T21:24:43.955778Z",
          "shell.execute_reply": "2022-08-07T21:24:43.954979Z"
        },
        "id": "16dad418"
      },
      "outputs": [],
      "source": [
        "problem.check()"
      ]
    },
    {
      "cell_type": "markdown",
      "id": "162146c3",
      "metadata": {
        "id": "162146c3"
      },
      "source": [
        "## Puzzle 13 - Axis Sum\n",
        "\n",
        "Implement a kernel that computes a sum over each column of `a` and stores it in `out`."
      ]
    },
    {
      "cell_type": "code",
      "execution_count": null,
      "id": "e87fd5df",
      "metadata": {
        "execution": {
          "iopub.execute_input": "2022-08-07T21:24:43.959820Z",
          "iopub.status.busy": "2022-08-07T21:24:43.959380Z",
          "iopub.status.idle": "2022-08-07T21:24:44.280640Z",
          "shell.execute_reply": "2022-08-07T21:24:44.279832Z"
        },
        "id": "e87fd5df"
      },
      "outputs": [],
      "source": [
        "TPB = 8\n",
        "def sum_spec(a):\n",
        "    out = np.zeros((a.shape[0], (a.shape[1] + TPB - 1) // TPB))\n",
        "    for j, i in enumerate(range(0, a.shape[-1], TPB)):\n",
        "        out[..., j] = a[..., i : i + TPB].sum(-1)\n",
        "    return out\n",
        "\n",
        "\n",
        "def axis_sum_test(cuda):\n",
        "    def call(out, a, size: int) -> None:\n",
        "        cache = cuda.shared.array(TPB, numba.float32)\n",
        "        i = cuda.blockIdx.x * cuda.blockDim.x + cuda.threadIdx.x\n",
        "        local_i = cuda.threadIdx.x\n",
        "        batch = cuda.blockIdx.y\n",
        "        if i < size:\n",
        "          cache[local_i] = a[batch, i]\n",
        "        else:\n",
        "          cache[local_i] = 0\n",
        "        cuda.syncthreads()\n",
        "        if local_i == 0:\n",
        "          x = 0\n",
        "          for j in range(TPB):\n",
        "            x+= cache[j]\n",
        "          out[batch,0] = x\n",
        "\n",
        "\n",
        "    return call\n",
        "\n",
        "\n",
        "BATCH = 4\n",
        "SIZE = 6\n",
        "out = np.zeros((BATCH, 1))\n",
        "inp = np.arange(BATCH * SIZE).reshape((BATCH, SIZE))\n",
        "problem = CudaProblem(\n",
        "    \"Axis Sum\",\n",
        "    axis_sum_test,\n",
        "    [inp],\n",
        "    out,\n",
        "    [SIZE],\n",
        "    Coord(1, BATCH),\n",
        "    Coord(TPB, 1),\n",
        "    spec=sum_spec,\n",
        ")\n",
        "problem.show()"
      ]
    },
    {
      "cell_type": "code",
      "execution_count": null,
      "id": "c3326563",
      "metadata": {
        "execution": {
          "iopub.execute_input": "2022-08-07T21:24:44.289173Z",
          "iopub.status.busy": "2022-08-07T21:24:44.288667Z",
          "iopub.status.idle": "2022-08-07T21:24:44.336305Z",
          "shell.execute_reply": "2022-08-07T21:24:44.335469Z"
        },
        "lines_to_end_of_cell_marker": 0,
        "lines_to_next_cell": 1,
        "id": "c3326563"
      },
      "outputs": [],
      "source": [
        "problem.check()"
      ]
    },
    {
      "cell_type": "markdown",
      "id": "300312e8",
      "metadata": {
        "id": "300312e8"
      },
      "source": [
        "## Puzzle 14 - Matrix Multiply!\n",
        "\n",
        "Implement a kernel that multiplies square matrices `a` and `b` and\n",
        "stores the result in `out`.\n",
        "\n",
        "*Tip: The most efficient algorithm here will copy a block into\n",
        " shared memory before computing each of the individual row-column\n",
        " dot products. This is easy to do if the matrix fits in shared\n",
        " memory.  Do that case first. Then update your code to compute\n",
        " a partial dot-product and iteratively move the part you\n",
        " copied into shared memory.* You should be able to do the hard case\n",
        " in 6 global reads."
      ]
    },
    {
      "cell_type": "code",
      "execution_count": null,
      "id": "252db1c3",
      "metadata": {
        "execution": {
          "iopub.execute_input": "2022-08-07T21:24:44.340330Z",
          "iopub.status.busy": "2022-08-07T21:24:44.339875Z",
          "iopub.status.idle": "2022-08-07T21:24:44.433833Z",
          "shell.execute_reply": "2022-08-07T21:24:44.433028Z"
        },
        "id": "252db1c3"
      },
      "outputs": [],
      "source": [
        "def matmul_spec(a, b):\n",
        "    return a @ b\n",
        "\n",
        "\n",
        "TPB = 3\n",
        "def mm_oneblock_test(cuda):\n",
        "    def call(out, a, b, size: int) -> None:\n",
        "        a_shared = cuda.shared.array((TPB, TPB), numba.float32)\n",
        "        b_shared = cuda.shared.array((TPB, TPB), numba.float32)\n",
        "\n",
        "        x = cuda.blockIdx.x * cuda.blockDim.x + cuda.threadIdx.x\n",
        "        y = cuda.blockIdx.y * cuda.blockDim.y + cuda.threadIdx.y\n",
        "        local_x = cuda.threadIdx.x\n",
        "        local_y = cuda.threadIdx.y\n",
        "        ooo = 0\n",
        "        for block_offset in range(3):\n",
        "          if x<size and local_y+block_offset*cuda.blockDim.y < size:\n",
        "            a_shared[local_x, local_y] = a[x, local_y + block_offset*cuda.blockDim.y]\n",
        "          else:\n",
        "            a_shared[local_x, local_y] = 0\n",
        "          if y<size and local_x+block_offset*cuda.blockDim.x<size:\n",
        "            b_shared[local_x, local_y] = b[local_x+block_offset*cuda.blockDim.x, y]\n",
        "          else:\n",
        "            b_shared[local_x, local_y] = 0\n",
        "          cuda.syncthreads()\n",
        "\n",
        "          for o in range(TPB):\n",
        "            ooo+=a_shared[local_x, o]*b_shared[o, local_y]\n",
        "        if x < size and y<size:\n",
        "\n",
        "          out[x, y]= ooo\n",
        "\n",
        "\n",
        "    return call\n",
        "\n",
        "# Test 1\n",
        "\n",
        "SIZE = 2\n",
        "out = np.zeros((SIZE, SIZE))\n",
        "inp1 = np.arange(SIZE * SIZE).reshape((SIZE, SIZE))\n",
        "inp2 = np.arange(SIZE * SIZE).reshape((SIZE, SIZE)).T\n",
        "\n",
        "problem = CudaProblem(\n",
        "    \"Matmul (Simple)\",\n",
        "    mm_oneblock_test,\n",
        "    [inp1, inp2],\n",
        "    out,\n",
        "    [SIZE],\n",
        "    Coord(1, 1),\n",
        "    Coord(TPB, TPB),\n",
        "    spec=matmul_spec,\n",
        ")\n",
        "problem.show(sparse=True)"
      ]
    },
    {
      "cell_type": "code",
      "execution_count": null,
      "id": "cb812973",
      "metadata": {
        "execution": {
          "iopub.execute_input": "2022-08-07T21:24:44.437576Z",
          "iopub.status.busy": "2022-08-07T21:24:44.437142Z",
          "iopub.status.idle": "2022-08-07T21:24:44.502001Z",
          "shell.execute_reply": "2022-08-07T21:24:44.501163Z"
        },
        "id": "cb812973"
      },
      "outputs": [],
      "source": [
        "problem.check()"
      ]
    },
    {
      "cell_type": "markdown",
      "id": "f119be2d",
      "metadata": {
        "id": "f119be2d"
      },
      "source": [
        "Test 2"
      ]
    },
    {
      "cell_type": "code",
      "execution_count": null,
      "id": "e713d056",
      "metadata": {
        "execution": {
          "iopub.execute_input": "2022-08-07T21:24:44.506178Z",
          "iopub.status.busy": "2022-08-07T21:24:44.505708Z",
          "iopub.status.idle": "2022-08-07T21:24:47.932059Z",
          "shell.execute_reply": "2022-08-07T21:24:47.931153Z"
        },
        "id": "e713d056"
      },
      "outputs": [],
      "source": [
        "SIZE = 8\n",
        "out = np.zeros((SIZE, SIZE))\n",
        "inp1 = np.arange(SIZE * SIZE).reshape((SIZE, SIZE))\n",
        "inp2 = np.arange(SIZE * SIZE).reshape((SIZE, SIZE)).T\n",
        "\n",
        "problem = CudaProblem(\n",
        "    \"Matmul (Full)\",\n",
        "    mm_oneblock_test,\n",
        "    [inp1, inp2],\n",
        "    out,\n",
        "    [SIZE],\n",
        "    Coord(3, 3),\n",
        "    Coord(TPB, TPB),\n",
        "    spec=matmul_spec,\n",
        ")\n",
        "problem.show(sparse=True)"
      ]
    },
    {
      "cell_type": "code",
      "execution_count": null,
      "id": "61bda17c",
      "metadata": {
        "execution": {
          "iopub.execute_input": "2022-08-07T21:24:47.956298Z",
          "iopub.status.busy": "2022-08-07T21:24:47.955822Z",
          "iopub.status.idle": "2022-08-07T21:24:48.019620Z",
          "shell.execute_reply": "2022-08-07T21:24:48.018792Z"
        },
        "id": "61bda17c"
      },
      "outputs": [],
      "source": [
        "problem.check()"
      ]
    }
  ],
  "metadata": {
    "jupytext": {
      "cell_metadata_filter": "-all"
    },
    "kernelspec": {
      "display_name": "Python 3",
      "name": "python3"
    },
    "language_info": {
      "codemirror_mode": {
        "name": "ipython",
        "version": 3
      },
      "file_extension": ".py",
      "mimetype": "text/x-python",
      "name": "python",
      "nbconvert_exporter": "python",
      "pygments_lexer": "ipython3",
      "version": "3.8.10"
    },
    "colab": {
      "provenance": [],
      "gpuType": "T4"
    },
    "accelerator": "GPU"
  },
  "nbformat": 4,
  "nbformat_minor": 5
}